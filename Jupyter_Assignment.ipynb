{
 "cells": [
  {
   "cell_type": "markdown",
   "id": "041b9910-d2da-45dc-8959-2f4ff40c72bc",
   "metadata": {},
   "source": [
    "# Data Science Tools and Ecosystem\r\n",
    "This notebook provides an overview of popular data science tools, libraries, and languages used in the field of data science.\r\n"
   ]
  },
  {
   "cell_type": "markdown",
   "id": "dc6aeee1-74e3-47a6-908e-421d8e472351",
   "metadata": {},
   "source": [
    "## Data Science Languages\r\n",
    "The following are some of the most commonly used programming languages in data science:\r\n",
    "\r\n",
    "- **Python**: Widely used for data analysis, machine learning, and automation.\r\n",
    "- **R**: Specialized in statistical computing and data visualization.\r\n",
    "- **SQL**: Used for managing and querying data stored in relational databases.\r\n",
    "- **Java**: Sometimes used for building large-scale applications and data frameworks.\r\n"
   ]
  },
  {
   "cell_type": "markdown",
   "id": "bacdc8cf-5aa1-4e5b-93e2-6331b05cee8f",
   "metadata": {},
   "source": [
    "## Data Science Libraries\r\n",
    "These are popular libraries used by data scientists to simplify tasks such as numerical computations, data manipulation, and machine learning:\r\n",
    "\r\n",
    "- **NumPy**: Supports large, multi-dimensional arrays and matrices, along with a collection of mathematical functions.\r\n",
    "- **pandas**: Provides data structures and functions for working with structured data (e.g., tables).\r\n",
    "- **Matplotlib**: Used for creating static, animated, and interactive visualizations.\r\n",
    "- **TensorFlow**: An open-source platform for building machine learning models.\r\n"
   ]
  },
  {
   "cell_type": "markdown",
   "id": "55802cce-b702-4230-b3e3-93613c1415af",
   "metadata": {},
   "source": [
    "## Data Science Tools\r\n",
    "Several tools are used by data scientists to analyze and visualize data. Some popular ones include:\r\n",
    "\r\n",
    "- **Jupyter Notebook**: An open-source web application that allows you to create documents that contain live code, equations, visualizations, and narrative text.\r\n",
    "- **RStudio**: An integrated development environment for R.\r\n",
    "- **Apache Hadoop**: A framework for processing large datasets across distributed computing environments.\r\n",
    "- **GitHub**: A platform for version control and collaborative coding.\r\n"
   ]
  },
  {
   "cell_type": "code",
   "execution_count": null,
   "id": "45b293d4-01d4-49aa-b75e-aa50019f1177",
   "metadata": {},
   "outputs": [],
   "source": []
  }
 ],
 "metadata": {
  "kernelspec": {
   "display_name": "Python 3 (ipykernel)",
   "language": "python",
   "name": "python3"
  },
  "language_info": {
   "codemirror_mode": {
    "name": "ipython",
    "version": 3
   },
   "file_extension": ".py",
   "mimetype": "text/x-python",
   "name": "python",
   "nbconvert_exporter": "python",
   "pygments_lexer": "ipython3",
   "version": "3.12.4"
  }
 },
 "nbformat": 4,
 "nbformat_minor": 5
}
